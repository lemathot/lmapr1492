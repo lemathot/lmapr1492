{
 "cells": [
  {
   "cell_type": "code",
   "execution_count": 1,
   "id": "reduced-sentence",
   "metadata": {},
   "outputs": [],
   "source": [
    "from pymatgen.ext.matproj import MPRester\n",
    "from pymatgen.symmetry.analyzer import SpacegroupAnalyzer\n",
    "\n",
    "with MPRester(\"SsRPm7BKULyAwhtl\") as m:\n",
    "\n",
    "    struct = m.get_structure_by_material_id(\"mp-7476\")"
   ]
  },
  {
   "cell_type": "code",
   "execution_count": 10,
   "id": "forty-ecuador",
   "metadata": {},
   "outputs": [
    {
     "name": "stdout",
     "output_type": "stream",
     "text": [
      "Vecteurs de bases du réseau direct :\n",
      "\n",
      "\n",
      "6.641267 -1.756380 0.000000\n",
      "6.641267 1.756380 0.000000\n",
      "6.176767 0.000000 3.006468\n",
      "\n",
      "\n",
      "Longueurs (en Angstrom) :\n",
      "\n",
      "\n",
      "a =  6.869592278271615\n",
      "b =  6.869592278271615\n",
      "c =  6.869592448414461\n",
      "\n",
      "\n",
      "Angles (en degrés) :\n",
      "\n",
      "\n",
      "alpha =  29.627116758070034\n",
      "beta =  29.627116758070034\n",
      "gamma =  29.627119623935833\n"
     ]
    }
   ],
   "source": [
    "print(\"Vecteurs de bases du réseau direct :\")\n",
    "print(\"\\n\")\n",
    "vector = struct.lattice\n",
    "abc = vect.abc\n",
    "angle = vect.angles\n",
    "print(vector)\n",
    "print(\"\\n\")\n",
    "print(\"Longueurs (en Angstrom) :\")\n",
    "print(\"\\n\")\n",
    "print(\"a = \",abc[0])\n",
    "print(\"b = \",abc[1])\n",
    "print(\"c = \",abc[2])\n",
    "print(\"\\n\")\n",
    "print(\"Angles (en degrés) :\")\n",
    "print(\"\\n\")\n",
    "print(\"alpha = \",angle[0])\n",
    "print(\"beta = \",angle[1])\n",
    "print(\"gamma = \",angle[2])"
   ]
  },
  {
   "cell_type": "code",
   "execution_count": 11,
   "id": "medieval-product",
   "metadata": {},
   "outputs": [
    {
     "name": "stdout",
     "output_type": "stream",
     "text": [
      "Vecteurs de bases du réseau réciproque :\n",
      "\n",
      "\n",
      "6.641267 -1.756380 0.000000\n",
      "6.641267 1.756380 0.000000\n",
      "6.176767 0.000000 3.006468\n",
      "\n",
      "\n",
      "Longueurs (en Angstrom) :\n",
      "\n",
      "\n",
      "a =  2.089889169011468\n",
      "b =  2.089889169011468\n",
      "c =  2.08988930106011\n",
      "\n",
      "\n",
      "Angles (en degrés) :\n",
      "\n",
      "\n",
      "alpha =  117.7121178338121\n",
      "beta =  117.7121178338121\n",
      "gamma =  117.71210824032437\n"
     ]
    }
   ],
   "source": [
    "print(\"Vecteurs de bases du réseau réciproque :\")\n",
    "print(\"\\n\")\n",
    "vector_r = struct.lattice.reciprocal_lattice\n",
    "abc_r = vector_r.abc\n",
    "angle_r = vector_r.angles\n",
    "print(vector)\n",
    "print(\"\\n\")\n",
    "print(\"Longueurs (en Angstrom) :\")\n",
    "print(\"\\n\")\n",
    "print(\"a = \",abc_r[0])\n",
    "print(\"b = \",abc_r[1])\n",
    "print(\"c = \",abc_r[2])\n",
    "print(\"\\n\")\n",
    "print(\"Angles (en degrés) :\")\n",
    "print(\"\\n\")\n",
    "print(\"alpha = \",angle_r[0])\n",
    "print(\"beta = \",angle_r[1])\n",
    "print(\"gamma = \",angle_r[2])"
   ]
  },
  {
   "cell_type": "code",
   "execution_count": 12,
   "id": "excessive-duration",
   "metadata": {},
   "outputs": [
    {
     "name": "stdout",
     "output_type": "stream",
     "text": [
      "Type de maille :\n",
      "\n",
      "\n",
      "rhombohedral\n"
     ]
    }
   ],
   "source": [
    "print(\"Type de maille :\")\n",
    "print(\"\\n\")\n",
    "lattice = SpacegroupAnalyzer(struct).get_lattice_type()\n",
    "print(lattice[:])"
   ]
  },
  {
   "cell_type": "code",
   "execution_count": 13,
   "id": "apart-amsterdam",
   "metadata": {},
   "outputs": [
    {
     "name": "stdout",
     "output_type": "stream",
     "text": [
      "Système cristallin :\n",
      "\n",
      "\n",
      "trigonal\n"
     ]
    }
   ],
   "source": [
    "print(\"Système cristallin :\")\n",
    "print(\"\\n\")\n",
    "systeme = SpacegroupAnalyzer(struct).get_crystal_system()\n",
    "print(systeme[:])"
   ]
  },
  {
   "cell_type": "code",
   "execution_count": 14,
   "id": "directed-lewis",
   "metadata": {},
   "outputs": [
    {
     "name": "stdout",
     "output_type": "stream",
     "text": [
      "Groupe ponctuel :\n",
      "\n",
      "\n",
      "-3m\n"
     ]
    }
   ],
   "source": [
    "print(\"Groupe ponctuel :\")\n",
    "print(\"\\n\")\n",
    "ponctuel = SpacegroupAnalyzer(struct).get_point_group_symbol()\n",
    "print(ponctuel)"
   ]
  },
  {
   "cell_type": "code",
   "execution_count": null,
   "id": "fallen-representative",
   "metadata": {},
   "outputs": [],
   "source": []
  }
 ],
 "metadata": {
  "kernelspec": {
   "display_name": "Python 3",
   "language": "python",
   "name": "python3"
  },
  "language_info": {
   "codemirror_mode": {
    "name": "ipython",
    "version": 3
   },
   "file_extension": ".py",
   "mimetype": "text/x-python",
   "name": "python",
   "nbconvert_exporter": "python",
   "pygments_lexer": "ipython3",
   "version": "3.6.8"
  }
 },
 "nbformat": 4,
 "nbformat_minor": 5
}
