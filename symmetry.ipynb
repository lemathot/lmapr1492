{
 "cells": [
  {
   "cell_type": "code",
   "execution_count": 45,
   "id": "wired-prediction",
   "metadata": {},
   "outputs": [],
   "source": [
    "from pymatgen.ext.matproj import MPRester\n",
    "from pymatgen.symmetry.analyzer import *\n",
    "from pymatgen.io.cif import *\n",
    "from pymatgen.symmetry.site_symmetries import *\n",
    "from jupyter_jsmol.pymatgen import quick_view\n",
    "from pymatgen import Lattice, Structure"
   ]
  },
  {
   "cell_type": "code",
   "execution_count": 46,
   "id": "coastal-advocate",
   "metadata": {},
   "outputs": [],
   "source": [
    "with MPRester(\"SsRPm7BKULyAwhtl\") as m:\n",
    "\n",
    "    structure = m.get_structure_by_material_id(\"mp-7476\")"
   ]
  },
  {
   "cell_type": "code",
   "execution_count": 47,
   "id": "cheap-repair",
   "metadata": {},
   "outputs": [],
   "source": [
    "# Opérations de symétrie\n",
    "Sym_1 = SymmOp.from_xyz_string('-x, -y, -z')#2\n",
    "Sym_2 = SymmOp.from_xyz_string('y, x, -z')#7\n",
    "Sym_3 = SymmOp.from_xyz_string('x, x-y, z')#12\n",
    "\n",
    "# Différents atomes\n",
    "Rb1_i = [1.0,1.0,1.0]\n",
    "O1_i = [0.0,0.0,0.22504]\n",
    "Dy1_i = [1.0,1.0,0.5]\n",
    "\n",
    "# Application des opérations de symétrie\n",
    "Rb1_f = Sym_1.operate(Rb1_i)\n",
    "O1_f = Sym_2.operate(O1_i)\n",
    "Dy1_f = Sym_3.operate(Dy1_i)"
   ]
  },
  {
   "cell_type": "markdown",
   "id": "atmospheric-visit",
   "metadata": {},
   "source": [
    "# Visualisation du cristal"
   ]
  },
  {
   "cell_type": "code",
   "execution_count": 48,
   "id": "opponent-living",
   "metadata": {},
   "outputs": [
    {
     "data": {
      "application/vnd.jupyter.widget-view+json": {
       "model_id": "f3c238ce36d24d6399fa00c77f90bfa5",
       "version_major": 2,
       "version_minor": 0
      },
      "text/plain": [
       "JsmolView(layout=Layout(align_self='stretch', height='400px'))"
      ]
     },
     "metadata": {},
     "output_type": "display_data"
    }
   ],
   "source": [
    "#Visualisation du cristal\n",
    "view = quick_view(structure, \"packed\", conventional = True)\n",
    "display(view)"
   ]
  },
  {
   "cell_type": "markdown",
   "id": "divided-attack",
   "metadata": {},
   "source": [
    "# Première symétrie"
   ]
  },
  {
   "cell_type": "code",
   "execution_count": 49,
   "id": "growing-dynamics",
   "metadata": {},
   "outputs": [
    {
     "name": "stdout",
     "output_type": "stream",
     "text": [
      "Première opération de symétrie : l'inversion\n",
      "--------------------------------------------\n",
      " \n",
      "L'atome de départ est Rb [1.0, 1.0, 1.0]\n",
      " \n",
      "L'opération (-x, -y, -z) est définie par l'opération de symétrie :\n",
      "Rot:\n",
      "[[-1.  0.  0.]\n",
      " [ 0. -1.  0.]\n",
      " [ 0.  0. -1.]]\n",
      "tau\n",
      "[0. 0. 0.]\n",
      " \n",
      "L'atome d'arrivée est Rb [-1. -1. -1.]\n"
     ]
    }
   ],
   "source": [
    "#Première symétrie : opération\n",
    "print(\"Première opération de symétrie : l'inversion\")\n",
    "print(\"--------------------------------------------\")\n",
    "print(\" \")\n",
    "print(\"L'atome de départ est Rb\", Rb1_i)\n",
    "print(\" \")\n",
    "print(\"L'opération (-x, -y, -z) est définie par l'opération de symétrie :\")\n",
    "print(Sym_1)\n",
    "print(\" \")\n",
    "print(\"L'atome d'arrivée est Rb\", Rb1_f)"
   ]
  },
  {
   "cell_type": "markdown",
   "id": "ultimate-terrorism",
   "metadata": {},
   "source": [
    "Equation de symétrie :\n",
    "$$\n",
    "\\left(\\begin{array}{cc} \n",
    "-1 & 0 & 0\\\\\n",
    "0 & -1 & 0\\\\\n",
    "0 & 0 & -1\\\\\n",
    "\\end{array}\\right)\n",
    "\\left(\\begin{array}{cc} \n",
    "x\\\\ \n",
    "y\\\\\n",
    "z\\\\\n",
    "\\end{array}\\right)\n",
    "= \n",
    "\\left(\\begin{array}{cc} \n",
    "-x\\\\ \n",
    "-y\\\\\n",
    "-z\\\\\n",
    "\\end{array}\\right)\n",
    "$$"
   ]
  },
  {
   "cell_type": "code",
   "execution_count": 50,
   "id": "hispanic-edgar",
   "metadata": {},
   "outputs": [
    {
     "data": {
      "application/vnd.jupyter.widget-view+json": {
       "model_id": "2025b8053ec64fa9b330e15a2cf9f0c0",
       "version_major": 2,
       "version_minor": 0
      },
      "text/plain": [
       "JsmolView(layout=Layout(align_self='stretch', height='400px'))"
      ]
     },
     "metadata": {},
     "output_type": "display_data"
    }
   ],
   "source": [
    "#Première symétrie : image\n",
    "view=quick_view(structure)\n",
    "display(view)\n",
    "view.script(\"draw symop 2 {atomno=4}\")"
   ]
  },
  {
   "cell_type": "markdown",
   "id": "retained-antarctica",
   "metadata": {},
   "source": [
    "# Deuxième symétrie"
   ]
  },
  {
   "cell_type": "code",
   "execution_count": 51,
   "id": "neutral-marathon",
   "metadata": {},
   "outputs": [
    {
     "name": "stdout",
     "output_type": "stream",
     "text": [
      "Deuxième opération de symétrie : la rotation d'ordre 2\n",
      "------------------------------------------------------\n",
      " \n",
      "L'atome de départ est O [0.0, 0.0, 0.22504]\n",
      " \n",
      "L'opération (y, x, -z) est définie par l'opération de symétrie :\n",
      "Rot:\n",
      "[[ 0.  1.  0.]\n",
      " [ 1.  0.  0.]\n",
      " [ 0.  0. -1.]]\n",
      "tau\n",
      "[0. 0. 0.]\n",
      " \n",
      "L'atome d'arrivée est O [ 0.       0.      -0.22504]\n"
     ]
    }
   ],
   "source": [
    "#Deuxième symétrie : opération\n",
    "print(\"Deuxième opération de symétrie : la rotation d'ordre 2\")\n",
    "print(\"------------------------------------------------------\")\n",
    "print(\" \")\n",
    "print(\"L'atome de départ est O\", O1_i)\n",
    "print(\" \")\n",
    "print(\"L'opération (y, x, -z) est définie par l'opération de symétrie :\")\n",
    "print(Sym_2)\n",
    "print(\" \")\n",
    "print(\"L'atome d'arrivée est O\", O1_f)"
   ]
  },
  {
   "cell_type": "markdown",
   "id": "rational-geneva",
   "metadata": {},
   "source": [
    "Equation de symétrie :\n",
    "$$\n",
    "\\left(\\begin{array}{cc} \n",
    "0 & 1 & 0\\\\\n",
    "1 & 0 & 0\\\\\n",
    "0 & 0 & -1\\\\\n",
    "\\end{array}\\right)\n",
    "\\left(\\begin{array}{cc} \n",
    "x\\\\ \n",
    "y\\\\\n",
    "z\\\\\n",
    "\\end{array}\\right)\n",
    "= \n",
    "\\left(\\begin{array}{cc} \n",
    "y\\\\ \n",
    "x\\\\\n",
    "-z\\\\\n",
    "\\end{array}\\right)\n",
    "$$"
   ]
  },
  {
   "cell_type": "code",
   "execution_count": 52,
   "id": "established-dutch",
   "metadata": {
    "scrolled": true
   },
   "outputs": [
    {
     "data": {
      "application/vnd.jupyter.widget-view+json": {
       "model_id": "9ed0de3a4aa14d64a377bd8559963c15",
       "version_major": 2,
       "version_minor": 0
      },
      "text/plain": [
       "JsmolView(layout=Layout(align_self='stretch', height='400px'))"
      ]
     },
     "metadata": {},
     "output_type": "display_data"
    }
   ],
   "source": [
    "#Deuxième symétrie : image\n",
    "view=quick_view(structure)\n",
    "display(view)\n",
    "view.script(\"draw symop 7 {atomno=3}\")"
   ]
  },
  {
   "cell_type": "markdown",
   "id": "requested-population",
   "metadata": {},
   "source": [
    "# Troisième symétrie"
   ]
  },
  {
   "cell_type": "code",
   "execution_count": 53,
   "id": "satisfactory-local",
   "metadata": {},
   "outputs": [
    {
     "name": "stdout",
     "output_type": "stream",
     "text": [
      "Troisième opération de symétrie : le plan miroir\n",
      "--------------------------------------------\n",
      " \n",
      "L'atome de départ est Dy [1.0, 1.0, 0.5]\n",
      " \n",
      "L'opération (x, x-y, z) est définie par l'opération de symétrie :\n",
      "Rot:\n",
      "[[ 1.  0.  0.]\n",
      " [ 1. -1.  0.]\n",
      " [ 0.  0.  1.]]\n",
      "tau\n",
      "[0. 0. 0.]\n",
      " \n",
      "L'atome d'arrivée est Dy [1.  0.  0.5]\n"
     ]
    }
   ],
   "source": [
    "#Troisième symétrie : opération\n",
    "print(\"Troisième opération de symétrie : le plan miroir\")\n",
    "print(\"--------------------------------------------\")\n",
    "print(\" \")\n",
    "print(\"L'atome de départ est Dy\", Dy1_i)\n",
    "print(\" \")\n",
    "print(\"L'opération (x, x-y, z) est définie par l'opération de symétrie :\")\n",
    "print(Sym_3)\n",
    "print(\" \")\n",
    "print(\"L'atome d'arrivée est Dy\", Dy1_f)"
   ]
  },
  {
   "cell_type": "markdown",
   "id": "cathedral-sarah",
   "metadata": {},
   "source": [
    "Equation de symétrie :\n",
    "$$\n",
    "\\left(\\begin{array}{cc} \n",
    "1 & 0 & 0\\\\\n",
    "1 & -1 & 0\\\\\n",
    "0 & 0 & 1\\\\\n",
    "\\end{array}\\right)\n",
    "\\left(\\begin{array}{cc} \n",
    "x\\\\ \n",
    "y\\\\\n",
    "z\\\\\n",
    "\\end{array}\\right)\n",
    "= \n",
    "\\left(\\begin{array}{cc} \n",
    "x\\\\ \n",
    "x-y\\\\\n",
    "z\\\\\n",
    "\\end{array}\\right)\n",
    "$$"
   ]
  },
  {
   "cell_type": "code",
   "execution_count": 54,
   "id": "certain-employment",
   "metadata": {},
   "outputs": [
    {
     "data": {
      "application/vnd.jupyter.widget-view+json": {
       "model_id": "e3c8ce8ae9574b3893a9d426a1839ff1",
       "version_major": 2,
       "version_minor": 0
      },
      "text/plain": [
       "JsmolView(layout=Layout(align_self='stretch', height='400px'))"
      ]
     },
     "metadata": {},
     "output_type": "display_data"
    }
   ],
   "source": [
    "#Troisième symétrie : image\n",
    "view=quick_view(structure)\n",
    "display(view)\n",
    "view.script(\"draw symop 12 {atomno=27}\")"
   ]
  },
  {
   "cell_type": "code",
   "execution_count": null,
   "id": "premium-questionnaire",
   "metadata": {},
   "outputs": [],
   "source": []
  }
 ],
 "metadata": {
  "kernelspec": {
   "display_name": "Python 3",
   "language": "python",
   "name": "python3"
  },
  "language_info": {
   "codemirror_mode": {
    "name": "ipython",
    "version": 3
   },
   "file_extension": ".py",
   "mimetype": "text/x-python",
   "name": "python",
   "nbconvert_exporter": "python",
   "pygments_lexer": "ipython3",
   "version": "3.6.8"
  }
 },
 "nbformat": 4,
 "nbformat_minor": 5
}
