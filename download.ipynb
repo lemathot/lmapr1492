{
 "cells": [
  {
   "cell_type": "code",
   "execution_count": 13,
   "id": "brave-concentration",
   "metadata": {},
   "outputs": [],
   "source": [
    "from pymatgen.ext.matproj import MPRester\n",
    "from pymatgen.io.cif import CifWriter\n",
    "from pymatgen.io.cif import CifParser"
   ]
  },
  {
   "cell_type": "code",
   "execution_count": 14,
   "id": "foster-comparative",
   "metadata": {},
   "outputs": [],
   "source": [
    "with MPRester(\"SsRPm7BKULyAwhtl\") as m:\n",
    "\n",
    "    # Structure for material id\n",
    "    structure = m.get_structure_by_material_id(\"mp-7476\")\n",
    "\n",
    "    # Dos for material id\n",
    "    dos = m.get_dos_by_material_id(\"mp-7476\")\n",
    "\n",
    "    # Bandstructure for material id\n",
    "    bandstructure = m.get_bandstructure_by_material_id(\"mp-7476\")\n",
    "    \n",
    "    w = CifWriter(structure)\n",
    "    w.write_file('RbDyO2.cif')"
   ]
  },
  {
   "cell_type": "code",
   "execution_count": 16,
   "id": "lucky-asbestos",
   "metadata": {},
   "outputs": [
    {
     "name": "stdout",
     "output_type": "stream",
     "text": [
      "Full Formula (Rb1 Dy1 O2)\n",
      "Reduced Formula: RbDyO2\n",
      "abc   :   6.869592   6.869592   6.869592\n",
      "angles:  29.627117  29.627117  29.627120\n",
      "Sites (4)\n",
      "  #  SP           a         b         c    magmom\n",
      "---  ----  --------  --------  --------  --------\n",
      "  0  Rb    0         0         0               -0\n",
      "  1  Dy    0.5       0.5       0.5             -0\n",
      "  2  O     0.774956  0.774956  0.774956         0\n",
      "  3  O     0.225044  0.225044  0.225044         0\n",
      "Complete DOS for Full Formula (Rb1 Dy1 O2)\n",
      "Reduced Formula: RbDyO2\n",
      "abc   :   6.869592   6.869592   6.869592\n",
      "angles:  29.627117  29.627117  29.627120\n",
      "Sites (4)\n",
      "  #  SP           a         b         c\n",
      "---  ----  --------  --------  --------\n",
      "  0  Rb    0         0         0\n",
      "  1  Dy    0.5       0.5       0.5\n",
      "  2  O     0.774956  0.774956  0.774956\n",
      "  3  O     0.225044  0.225044  0.225044\n",
      "<pymatgen.electronic_structure.bandstructure.BandStructureSymmLine object at 0x7f666658e470>\n"
     ]
    }
   ],
   "source": [
    "print(structure)\n",
    "print(dos)\n",
    "print(bandstructure)"
   ]
  },
  {
   "cell_type": "code",
   "execution_count": null,
   "id": "authentic-dutch",
   "metadata": {},
   "outputs": [],
   "source": []
  }
 ],
 "metadata": {
  "kernelspec": {
   "display_name": "Python 3",
   "language": "python",
   "name": "python3"
  },
  "language_info": {
   "codemirror_mode": {
    "name": "ipython",
    "version": 3
   },
   "file_extension": ".py",
   "mimetype": "text/x-python",
   "name": "python",
   "nbconvert_exporter": "python",
   "pygments_lexer": "ipython3",
   "version": "3.6.8"
  }
 },
 "nbformat": 4,
 "nbformat_minor": 5
}
